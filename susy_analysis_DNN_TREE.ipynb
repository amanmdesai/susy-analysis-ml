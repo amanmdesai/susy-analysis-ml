{
  "cells": [
    {
      "cell_type": "code",
      "execution_count": 1,
      "metadata": {
        "id": "LR6mzWAdNepn"
      },
      "outputs": [],
      "source": [
        "import os\n",
        "import pandas as pd\n",
        "import numpy as np\n",
        "import matplotlib.pyplot as plt\n",
        "%matplotlib inline\n",
        "plt.rcParams['figure.dpi']= 120\n",
        "\n",
        "\n",
        "from sklearn.model_selection import train_test_split\n",
        "from sklearn.ensemble import GradientBoostingClassifier, RandomForestClassifier\n",
        "from sklearn.metrics import classification_report\n",
        "from sklearn.metrics import RocCurveDisplay\n",
        "from sklearn.metrics import roc_curve, auc\n",
        "import xgboost as xgb\n",
        "\n",
        "import tensorflow as tf\n",
        "import tensorflow.keras as keras\n",
        "from tensorflow.keras.layers import (\n",
        "    Activation,\n",
        "    BatchNormalization,\n",
        "    Concatenate,\n",
        "    Dense,\n",
        "    Input,\n",
        "    Layer,\n",
        ")\n",
        "from tensorflow.keras import Sequential,metrics\n",
        "from keras.utils.vis_utils import plot_model\n",
        "from tensorflow.keras import backend as K\n",
        "from tensorflow.keras.initializers import GlorotUniform\n",
        "\n",
        "gpus = tf.config.experimental.list_physical_devices('GPU')\n",
        "for gpu in gpus:\n",
        "  tf.config.experimental.set_memory_growth(gpu, True)\n",
        "\n",
        "os.environ[\"CUDA_VISIBLE_DEVICES\"] = \"-1\""
      ]
    },
    {
      "cell_type": "code",
      "execution_count": 2,
      "metadata": {
        "colab": {
          "base_uri": "https://localhost:8080/"
        },
        "id": "x2hs8zLxNC8r",
        "outputId": "3f011966-a675-4ad1-ae7e-dc38bb6e5534"
      },
      "outputs": [
        {
          "output_type": "stream",
          "name": "stdout",
          "text": [
            "file exists\n"
          ]
        }
      ],
      "source": [
        "#/content/SUSY.csv.gz\n",
        "#print(os.listdir('/content'))\n",
        "if 'SUSY.csv' in os.listdir('/content'):\n",
        "  print('file exists')\n",
        "else:\n",
        "  print('file downloading')\n",
        "  !wget http://archive.ics.uci.edu/ml/machine-learning-databases/00279/SUSY.csv.gz\n",
        "  !gzip -d SUSY.csv.gz\n",
        "# Link to dataset: http://archive.ics.uci.edu/ml/datasets/SUSY\n",
        "# 0: background\n",
        "# 1: signal"
      ]
    },
    {
      "cell_type": "code",
      "execution_count": null,
      "metadata": {
        "id": "_ZGLQcytNl56"
      },
      "outputs": [],
      "source": [
        "df = pd.read_csv('SUSY.csv')\n",
        "df.columns = [\"label\",\"lepton1-pT\", \"lepton1-eta\", \"lepton1-phi\", \"lepton2-pT\", \"lepton2-eta\", \"lepton2-phi\", \"missing-energy-magnitude\", \"missing-energy-phi\", \"MET-rel\", \"axial-MET\", \"MR\", \"MTR2\", \"R\", \"MT2\", \"SR\", \"MDeltaR\", \"dPhirb\", \"cos(thetar1)\"]"
      ]
    },
    {
      "cell_type": "code",
      "execution_count": null,
      "metadata": {
        "id": "swSYUJLvK2ak"
      },
      "outputs": [],
      "source": [
        "df_all = df\n",
        "df_low_level=df[[\"label\",\"lepton1-pT\", \"lepton1-eta\", \"lepton1-phi\", \"lepton2-pT\", \"lepton2-eta\", \"lepton2-phi\", \"missing-energy-magnitude\", \"missing-energy-phi\"]]\n",
        "df_high_level= df[[\"label\",\"MET-rel\", \"axial-MET\", \"MR\", \"MTR2\", \"R\", \"MT2\", \"SR\", \"MDeltaR\", \"dPhirb\", \"cos(thetar1)\"]]"
      ]
    },
    {
      "cell_type": "code",
      "execution_count": null,
      "metadata": {
        "id": "0F_dZQNMV6lA"
      },
      "outputs": [],
      "source": [
        "levels = [\"all\",\"low\",\"high\"]"
      ]
    },
    {
      "cell_type": "code",
      "source": [
        "def Model_NN(X_train, X_valid, y_train, y_valid):\n",
        "  initializer = tf.keras.initializers.GlorotUniform()\n",
        "  model = Sequential()\n",
        "  model = keras.Sequential(name=\"my_sequential\")\n",
        "  model.add(Dense(300, activation=\"sigmoid\"))\n",
        "  model.add(Dense(300, activation=\"sigmoid\"))\n",
        "  model.add(Dense(200, activation=\"sigmoid\"))\n",
        "  model.add(Dense(50, activation=\"sigmoid\"))\n",
        "  model.add(Dense(1,activation=\"sigmoid\"))\n",
        "  model.compile(optimizer=keras.optimizers.Adam(learning_rate=0.0002),loss=\"binary_crossentropy\")\n",
        "  return model"
      ],
      "metadata": {
        "id": "Z6M369A78Oan"
      },
      "execution_count": null,
      "outputs": []
    },
    {
      "cell_type": "code",
      "source": [
        "i = 0\n",
        "for df in [df_all, df_low_level, df_high_level]:\n",
        "  y = df[['label']]\n",
        "  X = df.drop('label',axis=1)\n",
        "  X=X.to_numpy()\n",
        "  y=y.to_numpy()\n",
        "  X_train, X_valid, y_train, y_valid =  train_test_split(X[:2_00_000],y[:2_00_000],random_state=1,test_size=.35)\n",
        "  model = Model_NN(X_train, X_valid, y_train, y_valid)\n",
        "  model_name = \"DNN\"\n",
        "  history = model.fit(X_train,y_train.ravel(),epochs=5,batch_size=1024,validation_data=(X_valid, y_valid))\n",
        "  y_pred = model.predict(X_valid)\n",
        "  save = pd.DataFrame({\"y_pred\" : y_pred.ravel(),\"y_true\" : y_valid.ravel()})\n",
        "  save.to_csv(\"data_\"+model_name+\"_\"+levels[i]+\".csv\", index=False)\n",
        "  i = i + 1"
      ],
      "metadata": {
        "id": "pNF0YnPH8yyb"
      },
      "execution_count": null,
      "outputs": []
    },
    {
      "cell_type": "code",
      "execution_count": null,
      "metadata": {
        "id": "6EbQYo16Mee1"
      },
      "outputs": [],
      "source": [
        "i = 0\n",
        "for df in [df_all, df_low_level, df_high_level]:\n",
        "  y = df[['label']]\n",
        "  X = df.drop('label',axis=1)\n",
        "  X=X.to_numpy()\n",
        "  y=y.to_numpy()\n",
        "  X_train, X_valid, y_train, y_valid =  train_test_split(X[:2_00_000],y[:2_00_000],random_state=1,test_size=.35)\n",
        "  model = xgb.XGBClassifier(max_depth=10,sampling_method='uniform',n_jobs=-1,random_state=1,tree_method='gpu_hist')#criterion='gini',min_samples_leaf=5,max_depth=6,n_jobs=-1)\n",
        "  model_name = \"XGBClassifier\"\n",
        "  model.fit(X_train,y_train.ravel())\n",
        "  y_pred = model.predict_proba(X_valid)\n",
        "  save = pd.DataFrame({\"y_pred\" : y_pred[:,1].ravel(),\"y_true\" : y_valid.ravel()})\n",
        "  save.to_csv(\"data_\"+model_name+\"_\"+levels[i]+\".csv\", index=False)\n",
        "  i = i + 1"
      ]
    },
    {
      "cell_type": "code",
      "source": [
        "def make_plot(files):\n",
        "  fig, ax =plt.subplots()\n",
        "  fig2, ax2 =plt.subplots()\n",
        "  fig3, ax3 =plt.subplots()\n",
        "  for file in files:\n",
        "\n",
        "    read_df = pd.read_csv(file)\n",
        "    y_pred = read_df['y_pred'].to_numpy()\n",
        "    y_true = read_df['y_true'].to_numpy()\n",
        "    model_name = file.replace(\"data_\",\"\")\n",
        "    model_name = model_name.replace(\".csv\",\"\")\n",
        "    fpr, tpr, thresholds = roc_curve(y_true.ravel(), y_pred.ravel())\n",
        "    auc_measure = auc(fpr, tpr)\n",
        "\n",
        "    S = 100*tpr\n",
        "    B = 1000*fpr\n",
        "    metric = S/np.sqrt(S+B+.000000001)\n",
        "    opt_index = np.argmax(metric)\n",
        "    \n",
        "    ax3.hist(y_pred.ravel(),label=model_name+'_signal',bins=50,histtype='step')\n",
        "    ax3.hist(1-(y_pred.ravel()),label=model_name+'_background',bins=50,histtype='step')\n",
        "    \n",
        "    ax.plot(tpr, 1-fpr,label=model_name+f' , AUC={auc_measure:.2f}')\n",
        "    ax2.plot(thresholds,metric,label=model_name+f' OptCut={thresholds[opt_index]:.2f}, Significance={metric[opt_index]:.2f}')\n",
        "\n",
        "\n",
        "\n",
        "\n",
        "  ax.set_xlabel('Signal Efficiency')\n",
        "  ax.set_ylabel('Background Rejection')\n",
        "  ax.set_xlim([0.0, 1.0])\n",
        "  ax.legend(loc='lower left',title_fontsize='x-small')\n",
        "  ax2.legend(bbox_to_anchor =(1.65, 1))\n",
        "  print(\"\")\n",
        "  print(\"\")\n",
        "\n",
        "  ax2.set_xlim([0.0, 1.0])\n",
        "  ax2.set_xlabel('BDT Cut')\n",
        "  ax2.set_ylabel('Significance')\n",
        "  ax2.legend(loc='lower left',title_fontsize='x-small',)\n",
        "  ax2.legend(bbox_to_anchor =(1.1, .5))\n",
        "  print(\"\")\n",
        "  print(\"\")\n",
        "  ax3.set_xlabel('BDT Output')\n",
        "  ax3.set_ylabel('Counts`')\n",
        "  ax3.set_yscale('log')\n",
        "  ax3.legend(loc='lower left',title_fontsize='x-small',)\n",
        "  ax3.legend(bbox_to_anchor =(1.65, 1))"
      ],
      "metadata": {
        "id": "y58ERhWkS4AU"
      },
      "execution_count": null,
      "outputs": []
    },
    {
      "cell_type": "code",
      "source": [
        "make_plot(['data_DNN_low.csv','data_DNN_high.csv','data_DNN_all.csv'])"
      ],
      "metadata": {
        "id": "5jYU_7XtX4iM"
      },
      "execution_count": null,
      "outputs": []
    },
    {
      "cell_type": "code",
      "source": [
        "make_plot(['data_XGBClassifier_low.csv','data_XGBClassifier_high.csv','data_XGBClassifier_all.csv'])"
      ],
      "metadata": {
        "id": "nrnsQDGfYgis"
      },
      "execution_count": null,
      "outputs": []
    },
    {
      "cell_type": "code",
      "source": [
        "files_all=['data_DNN_low.csv','data_DNN_high.csv','data_DNN_all.csv','data_XGBClassifier_low.csv','data_XGBClassifier_high.csv','data_XGBClassifier_all.csv']\n",
        "make_plot(files_all)"
      ],
      "metadata": {
        "id": "XUfPrPPKYfJ4"
      },
      "execution_count": null,
      "outputs": []
    },
    {
      "cell_type": "code",
      "source": [],
      "metadata": {
        "id": "5epXahJdYBRt"
      },
      "execution_count": null,
      "outputs": []
    }
  ],
  "metadata": {
    "colab": {
      "collapsed_sections": [],
      "provenance": []
    },
    "kernelspec": {
      "display_name": "Python 3",
      "name": "python3"
    },
    "language_info": {
      "name": "python"
    },
    "accelerator": "GPU"
  },
  "nbformat": 4,
  "nbformat_minor": 0
}