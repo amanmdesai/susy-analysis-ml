{
  "cells": [
    {
      "cell_type": "code",
      "execution_count": 1,
      "metadata": {
        "id": "LR6mzWAdNepn"
      },
      "outputs": [],
      "source": [
        "import pandas as pd\n",
        "import matplotlib.pyplot as plt\n",
        "%matplotlib inline\n",
        "plt.rcParams['figure.dpi']= 100\n",
        "\n",
        "\n",
        "from sklearn.model_selection import train_test_split\n",
        "from sklearn.ensemble import GradientBoostingClassifier, RandomForestClassifier\n",
        "from sklearn.metrics import classification_report\n",
        "from sklearn.metrics import RocCurveDisplay\n",
        "from sklearn.metrics import roc_curve, auc\n",
        "import xgboost as xgb"
      ]
    },
    {
      "cell_type": "code",
      "execution_count": 2,
      "metadata": {
        "colab": {
          "base_uri": "https://localhost:8080/"
        },
        "id": "x2hs8zLxNC8r",
        "outputId": "6ac362e7-ba56-46b1-80e4-a3d8a6303f44"
      },
      "outputs": [
        {
          "output_type": "stream",
          "name": "stdout",
          "text": [
            "file exists\n"
          ]
        }
      ],
      "source": [
        "#/content/SUSY.csv.gz\n",
        "import os\n",
        "#print(os.listdir('/content'))\n",
        "if 'SUSY.csv' in os.listdir('/content'):\n",
        "  print('file exists')\n",
        "else:\n",
        "  print('file downloading')\n",
        "  !wget http://archive.ics.uci.edu/ml/machine-learning-databases/00279/SUSY.csv.gz\n",
        "  !gzip -d SUSY.csv.gz\n",
        "# Link to dataset: http://archive.ics.uci.edu/ml/datasets/SUSY\n",
        "# 0: background\n",
        "# 1: signal"
      ]
    },
    {
      "cell_type": "code",
      "execution_count": null,
      "metadata": {
        "id": "_ZGLQcytNl56"
      },
      "outputs": [],
      "source": [
        "df = pd.read_csv('SUSY.csv')\n",
        "df.columns = [\"label\",\"lepton1-pT\", \"lepton1-eta\", \"lepton1-phi\", \"lepton2-pT\", \"lepton2-eta\", \"lepton2-phi\", \"missing-energy-magnitude\", \"missing-energy-phi\", \"MET-rel\", \"axial-MET\", \"MR\", \"MTR2\", \"R\", \"MT2\", \"SR\", \"MDeltaR\", \"dPhirb\", \"cos(thetar1)\"]\n",
        "df"
      ]
    },
    {
      "cell_type": "code",
      "execution_count": null,
      "metadata": {
        "id": "spIr3L4SNozH"
      },
      "outputs": [],
      "source": [
        "signal = df.loc[df['label']==1]\n",
        "background = df.loc[df['label']==0]"
      ]
    },
    {
      "cell_type": "code",
      "execution_count": null,
      "metadata": {
        "id": "EV3WCCf7P1_J"
      },
      "outputs": [],
      "source": [
        "import numpy as np"
      ]
    },
    {
      "cell_type": "code",
      "execution_count": null,
      "metadata": {
        "id": "kMgT7dvWSPQc"
      },
      "outputs": [],
      "source": [
        "for col in df.columns:\n",
        "  plt.hist(signal[col], alpha=0.4,bins=50,color='b',label='signal')#  range=[min,max]\n",
        "  plt.hist(background[col],alpha=0.4,bins=50,color='r',label='background')#,range=[min,max]\n",
        "  plt.xlabel(col)\n",
        "  plt.yscale('log')\n",
        "  plt.legend() \n",
        "  plt.show()"
      ]
    },
    {
      "cell_type": "code",
      "execution_count": null,
      "metadata": {
        "id": "swSYUJLvK2ak"
      },
      "outputs": [],
      "source": [
        "df_all =df# \n",
        "df_high_level= df[[\"MET-rel\", \"axial-MET\", \"MR\", \"MTR2\", \"R\", \"MT2\", \"SR\", \"MDeltaR\", \"dPhirb\", \"cos(thetar1)\"]]\n",
        "df_low_level=df[[\"label\",\"lepton1-pT\", \"lepton1-eta\", \"lepton1-phi\", \"lepton2-pT\", \"lepton2-eta\", \"lepton2-phi\", \"missing-energy-magnitude\", \"missing-energy-phi\"]]"
      ]
    },
    {
      "cell_type": "code",
      "execution_count": null,
      "metadata": {
        "id": "0F_dZQNMV6lA"
      },
      "outputs": [],
      "source": [
        "y = df_low_level[['label']]\n",
        "X = df_low_level.drop('label',axis=1)\n",
        "X=X.to_numpy()\n",
        "y=y.to_numpy()\n",
        "#y.ravel()"
      ]
    },
    {
      "cell_type": "code",
      "execution_count": null,
      "metadata": {
        "id": "6EbQYo16Mee1"
      },
      "outputs": [],
      "source": [
        "X_train, X_valid, y_train, y_valid =  train_test_split(X,y,random_state=1,test_size=.35)"
      ]
    },
    {
      "cell_type": "code",
      "execution_count": null,
      "metadata": {
        "id": "eIThtF_6M8b0"
      },
      "outputs": [],
      "source": [
        "#rand = RandomForestClassifier(criterion='gini',min_samples_leaf=5,max_depth=6,n_jobs=-1)\n",
        "rand = xgb.XGBClassifier(max_depth=10,sampling_method='uniform',reg_lambda=2,reg_alpha=0.1,n_jobs=-1,random_state=1,tree_method='gpu_hist')#criterion='gini',min_samples_leaf=5,max_depth=6,n_jobs=-1)\n",
        "rand.fit(X_train,y_train.ravel())\n",
        "y_pred_xgb = rand.predict_proba(X_valid)"
      ]
    },
    {
      "cell_type": "code",
      "execution_count": null,
      "metadata": {
        "id": "dnEJ69cwurZ5"
      },
      "outputs": [],
      "source": [
        "plt.hist(y_pred_xgb[:,0],label='background',bins=50,histtype='step')\n",
        "plt.hist(y_pred_xgb[:,1],label='signal',bins=50,histtype='step')\n",
        "plt.legend()\n",
        "plt.xlabel('BDT Output')\n",
        "plt.ylabel('Counts`')\n",
        "plt.yscale('log')\n",
        "#plt.gca().set_aspect('equal', adjustable='box')\n",
        "plt.show()"
      ]
    },
    {
      "cell_type": "code",
      "execution_count": null,
      "metadata": {
        "id": "bp8jSp6tcQQn"
      },
      "outputs": [],
      "source": [
        "fpr_xgb, tpr_xgb, thresholds = roc_curve(y_valid.ravel(), y_pred_xgb[:,1].ravel())\n",
        "auc_xgb = auc(fpr_xgb, tpr_xgb)\n",
        "plt.plot(tpr_xgb, 1-fpr_xgb,label=f'XGB, AUC={auc_xgb:.2f}')\n",
        "#plt.plot(tpr_xgb, 1/(fpr_xgb+.000001),label=f'RandomForestClassifier, AUC={auc_xgb:.2f}')\n",
        "#plt.yscale('log')\n",
        "plt.xlabel('Signal Efficiency')\n",
        "plt.ylabel('Background Rejection')\n",
        "plt.xlim([0.0, 1.0])\n",
        "plt.gca().set_aspect('equal', adjustable='box')\n",
        "plt.legend(loc='lower left',title_fontsize='x-small')\n",
        "plt.show()"
      ]
    },
    {
      "cell_type": "code",
      "execution_count": null,
      "metadata": {
        "id": "bIdyuHsjyvti"
      },
      "outputs": [],
      "source": [
        "S = 100*tpr_xgb\n",
        "B = 1000*fpr_xgb\n",
        "metric = S/np.sqrt(S+B+.000000001)\n",
        "opt_index = np.argmax(metric)\n",
        "print(thresholds[opt_index],metric[opt_index])\n",
        "plt.plot(thresholds,metric)\n",
        "plt.xlim([0.0, 1.0])\n",
        "plt.xlabel('BDT Cut')\n",
        "plt.ylabel('Significance')\n",
        "plt.show()"
      ]
    },
    {
      "cell_type": "code",
      "source": [
        "save = pd.DataFrame({\"fpr_xgb\" : fpr_xgb, \"tpr_xgb\" : tpr_xgb, \"thresholds\":thresholds})\n",
        "save.to_csv(\"submission_xgb.csv\", index=False)"
      ],
      "metadata": {
        "id": "Z6M369A78Oan"
      },
      "execution_count": null,
      "outputs": []
    },
    {
      "cell_type": "code",
      "source": [],
      "metadata": {
        "id": "pNF0YnPH8yyb"
      },
      "execution_count": null,
      "outputs": []
    }
  ],
  "metadata": {
    "colab": {
      "collapsed_sections": [],
      "provenance": []
    },
    "kernelspec": {
      "display_name": "Python 3",
      "name": "python3"
    },
    "language_info": {
      "name": "python"
    },
    "accelerator": "GPU"
  },
  "nbformat": 4,
  "nbformat_minor": 0
}